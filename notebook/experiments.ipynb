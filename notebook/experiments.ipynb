{
 "cells": [
  {
   "cell_type": "code",
   "execution_count": 28,
   "metadata": {},
   "outputs": [
    {
     "name": "stdout",
     "output_type": "stream",
     "text": [
      "API key found\n"
     ]
    }
   ],
   "source": [
    "from dotenv import load_dotenv\n",
    "import os\n",
    "\n",
    "# Load environment variables from a .env file\n",
    "load_dotenv()\n",
    "\n",
    "# Access an environment variable\n",
    "google_api_key = os.getenv(\"GOOGLE_API_KEY\")\n",
    "if google_api_key==\"\":\n",
    "    print(\"API key not fount\")\n",
    "else:\n",
    "    print(\"API key found\")\n"
   ]
  },
  {
   "cell_type": "code",
   "execution_count": null,
   "metadata": {},
   "outputs": [],
   "source": [
    "from llama_index.core import SimpleDirectoryReader\n",
    "from llama_index.core import VectorStoreIndex\n",
    "from llama_index.llms.gemini import Gemini\n",
    "from IPython.display import Markdown,display\n",
    "from llama_index.core import StorageContext,load_index_from_storage\n",
    "import google.generativeai as genai\n",
    "from llama_index.embeddings.gemini import GeminiEmbedding\n",
    "from llama_index.core import Settings\n",
    "from llama_index.core.node_parser import SentenceSplitter\n",
    "from llama_index.core import Settings\n",
    "\n",
    "\n",
    "\n"
   ]
  },
  {
   "cell_type": "code",
   "execution_count": 30,
   "metadata": {},
   "outputs": [],
   "source": [
    "genai.configure(api_key=google_api_key)"
   ]
  },
  {
   "cell_type": "code",
   "execution_count": 31,
   "metadata": {},
   "outputs": [
    {
     "name": "stdout",
     "output_type": "stream",
     "text": [
      "models/gemini-1.0-pro-latest\n",
      "models/gemini-1.0-pro\n",
      "models/gemini-pro\n",
      "models/gemini-1.0-pro-001\n",
      "models/gemini-1.0-pro-vision-latest\n",
      "models/gemini-pro-vision\n",
      "models/gemini-1.5-pro-latest\n",
      "models/gemini-1.5-pro-001\n",
      "models/gemini-1.5-pro-002\n",
      "models/gemini-1.5-pro\n",
      "models/gemini-1.5-pro-exp-0801\n",
      "models/gemini-1.5-pro-exp-0827\n",
      "models/gemini-1.5-flash-latest\n",
      "models/gemini-1.5-flash-001\n",
      "models/gemini-1.5-flash-001-tuning\n",
      "models/gemini-1.5-flash\n",
      "models/gemini-1.5-flash-exp-0827\n",
      "models/gemini-1.5-flash-002\n",
      "models/gemini-1.5-flash-8b\n",
      "models/gemini-1.5-flash-8b-001\n",
      "models/gemini-1.5-flash-8b-latest\n",
      "models/gemini-1.5-flash-8b-exp-0827\n",
      "models/gemini-1.5-flash-8b-exp-0924\n",
      "models/learnlm-1.5-pro-experimental\n",
      "models/gemini-exp-1114\n",
      "models/gemini-exp-1121\n"
     ]
    }
   ],
   "source": [
    "for model in genai.list_models():\n",
    "    if 'generateContent' in model.supported_generation_methods:\n",
    "        print(model.name)"
   ]
  },
  {
   "cell_type": "code",
   "execution_count": 32,
   "metadata": {},
   "outputs": [],
   "source": [
    "documents=SimpleDirectoryReader(\"../Data\")\n",
    "doc=documents.load_data()"
   ]
  },
  {
   "cell_type": "code",
   "execution_count": 33,
   "metadata": {},
   "outputs": [
    {
     "data": {
      "text/plain": [
       "\"### Overview of the CAT Exam\\r\\n\\r\\nThe **Common Admission Test (CAT)** is one of the most prestigious and competitive management entrance exams in India. Conducted annually by the **Indian Institutes of Management (IIMs)**, CAT is a gateway to postgraduate programs in management, including the flagship MBA/PGDM courses offered by 20 IIMs and several other leading business schools in India. \\r\\n\\r\\n### Objectives of the CAT Exam\\r\\n\\r\\n1. **Eligibility for MBA Programs:** To serve as a standardized test for admission to IIMs and other top B-schools.\\r\\n2. **Skill Assessment:** To evaluate candidates on their quantitative, verbal, and logical reasoning skills.\\r\\n3. **Shortlisting Tool:** To filter candidates for further rounds of selection, such as Written Ability Tests (WAT), Group Discussions (GD), and Personal Interviews (PI).\\r\\n\\r\\n---\\r\\n\\r\\n### Structure and Pattern of CAT\\r\\n\\r\\nThe CAT exam is a **computer-based test** (CBT) with multiple-choice questions (MCQs) and non-MCQ (TITA) questions. It assesses three primary areas:\\r\\n\\r\\n1. **Quantitative Ability (QA):**\\r\\n   - Number of Questions: 22-26\\r\\n   - Topics: Arithmetic, Algebra, Geometry, Mensuration, Number Systems, Probability, Permutations & Combinations, Time & Work, Time-Speed-Distance.\\r\\n   - Focus: Mathematical and numerical problem-solving skills.\\r\\n\\r\\n2. **Verbal Ability and Reading Comprehension (VARC):**\\r\\n   - Number of Questions: 24-26\\r\\n   - Topics: Reading Comprehension (RC), Para-jumbles, Para-summary, Sentence Completion, Sentence Elimination.\\r\\n   - Focus: English language proficiency, grammar, and critical reading skills.\\r\\n\\r\\n3. **Data Interpretation and Logical Reasoning (DILR):**\\r\\n   - Number of Questions: 20-24\\r\\n   - Topics: Data Tables, Graphs, Charts, Logical Puzzles, Seating Arrangements, Games & Tournaments.\\r\\n   - Focus: Analytical and reasoning abilities.\\r\\n\\r\\n#### Key Features of CAT\\r\\n- **Duration:** 2 hours (40 minutes per section)\\r\\n- **Marking Scheme:** +3 for correct answers, -1 for incorrect MCQs, no negative marking for non-MCQs.\\r\\n- **Medium:** English\\r\\n- **Test Window:** Conducted in three slots in a single day, usually in November or December.\\r\\n\\r\\n---\\r\\n\\r\\n### Eligibility Criteria for CAT\\r\\n\\r\\n1. **Educational Qualification:**\\r\\n   - A bachelor’s degree with a minimum of **50% marks (45% for SC/ST/PwD candidates)**.\\r\\n   - Final-year undergraduate students are also eligible to apply.\\r\\n\\r\\n2. **Age Limit:**\\r\\n   - No upper age limit for taking the CAT exam.\\r\\n\\r\\n3. **Other Requirements:**\\r\\n   - Candidates must fulfill specific requirements as defined by individual IIMs for their respective programs.\\r\\n\\r\\n---\\r\\n\\r\\n### Registration Process\\r\\n\\r\\n1. **Online Application:**\\r\\n   - Candidates need to register on the official CAT website (**www.iimcat.ac.in**) during the application window (typically August-September).\\r\\n\\r\\n2. **Application Fee:**\\r\\n   - General: ₹2,400\\r\\n   - Reserved Categories (SC/ST/PwD): ₹1,200\\r\\n\\r\\n3. **Details Required:**\\r\\n   - Academic records, work experience, and preferred exam cities.\\r\\n   - Selection of IIM programs to apply for (done within the CAT form).\\r\\n\\r\\n4. **Admit Card:** \\r\\n   - Released online approximately 3-4 weeks before the exam.\\r\\n\\r\\n---\\r\\n\\r\\n### Key Dates for CAT\\r\\n\\r\\n| Event                     | Approximate Timeline       |\\r\\n|---------------------------|----------------------------|\\r\\n| Notification Release      | July/August               |\\r\\n| Registration Start Date   | August                    |\\r\\n| Registration End Date     | September                 |\\r\\n| Admit Card Release        | October                   |\\r\\n| Exam Date                 | November/December         |\\r\\n| Results Announcement      | January                   |\\r\\n\\r\\n---\\r\\n\\r\\n### Participating Institutes (IIMs and Other B-Schools)\\r\\n\\r\\n#### List of IIMs Offering Admission via CAT\\r\\n\\r\\n1. **IIM Ahmedabad (IIMA):**\\r\\n   - Flagship Program: PGP (MBA)\\r\\n   - Established: 1961\\r\\n   - Ranking: Consistently ranked among the top business schools in Asia.\\r\\n\\r\\n2. **IIM Bangalore (IIMB):**\\r\\n   - Flagship Program: PGP (MBA)\\r\\n   - Established: 1973\\r\\n   - Specialization: Leadership, strategy, and innovation.\\r\\n\\r\\n3. **IIM Calcutta (IIMC):**\\r\\n   - Flagship Program: PGP (MBA)\\r\\n   - Established: 1961\\r\\n   - Known for: Finance and analytics.\\r\\n\\r\\n4. **IIM Lucknow (IIML):**\\r\\n   - Flagship Program: PGP, PGP-ABM (Agribusiness Management)\\r\\n   - Established: 1984\\r\\n\\r\\n5. **IIM Kozhikode (IIMK):**\\r\\n   - Flagship Program: PGP\\r\\n   - Established: 1996\\r\\n   - Unique Offerings: Focus on technology and entrepreneurship.\\r\\n\\r\\n6. **IIM Indore (IIMI):**\\r\\n   - Flagship Program: PGP, IPM (Integrated Program in Management)\\r\\n   - Established: 1996\\r\\n   - Unique: Offers a 5-year IPM program for undergraduates.\\r\\n\\r\\n7. **IIM Shillong:**\\r\\n   - Flagship Program: PGP\\r\\n   - Focus: Sustainable management practices.\\r\\n\\r\\n8. **IIM Rohtak, IIM Trichy, IIM Udaipur, IIM Ranchi, IIM Raipur, IIM Kashipur, IIM Nagpur, IIM Visakhapatnam, IIM Bodh Gaya, IIM Amritsar, IIM Sirmaur, IIM Sambalpur, and IIM Jammu:**\\r\\n   - These newer IIMs offer PGP programs with a focus on various management disciplines.\\r\\n\\r\\n#### Other Leading B-Schools Accepting CAT Scores\\r\\n- Faculty of Management Studies (FMS), Delhi University\\r\\n- SP Jain Institute of Management and Research (SPJIMR), Mumbai\\r\\n- Management Development Institute (MDI), Gurgaon\\r\\n- Indian Institute of Foreign Trade (IIFT), Delhi/Kolkata\\r\\n- Institute of Management Technology (IMT), Ghaziabad\\r\\n- National Institute of Industrial Engineering (NITIE), Mumbai\\r\\n\\r\\n---\\r\\n\\r\\n### Selection Process Post-CAT\\r\\n\\r\\n1. **CAT Score and Percentile:**\\r\\n   - The percentile score determines eligibility for further rounds.\\r\\n\\r\\n2. **Shortlisting Criteria by IIMs:**\\r\\n   - Weightage to CAT score, academic records, diversity (gender and academic background), and work experience.\\r\\n\\r\\n3. **Subsequent Rounds:**\\r\\n   - **Written Ability Test (WAT):** Essays on current affairs, business issues, etc.\\r\\n   - **Group Discussion (GD):** Discussion on topics to assess communication and teamwork.\\r\\n   - **Personal Interview (PI):** Focuses on candidate’s academic background, work experience, and motivation.\\r\\n\\r\\n4. **Final Selection:**\\r\\n   - Composite scores are calculated, combining CAT performance, academic records, WAT/GD-PI scores, and other factors.\\r\\n\\r\\n---\\r\\n\\r\\n### Preparation Tips for CAT\\r\\n\\r\\n1. **Understand the Syllabus and Exam Pattern:**\\r\\n   - Analyze previous years' papers and mock tests.\\r\\n\\r\\n2. **Time Management:**\\r\\n   - Allocate dedicated time for each section during preparation and the exam.\\r\\n\\r\\n3. **Mock Tests:**\\r\\n   - Take regular mocks to improve speed, accuracy, and time management.\\r\\n\\r\\n4. **Sectional Focus:**\\r\\n   - Identify and strengthen weak areas.\\r\\n   - For QA, focus on fundamental concepts and practice problems.\\r\\n   - For VARC, develop reading habits and practice comprehension.\\r\\n   - For DILR, focus on solving puzzles and interpreting data.\\r\\n\\r\\n5. **Consistency and Revision:**\\r\\n   - Revise key concepts and maintain consistency in preparation.\\r\\n\\r\\n---\\r\\n\\r\\n### CAT Results and Scorecard\\r\\n\\r\\n- **Result Declaration:** January (on the official website).\\r\\n- **Scorecard Details:**\\r\\n  - Scaled scores for each section.\\r\\n  - Overall percentile.\\r\\n  - Validity: 1 year.\\r\\n\\r\\n---\\r\\n\\r\\n### Challenges and Common Myths\\r\\n\\r\\n1. **Myth:** Only engineers can crack CAT.\\r\\n   - Fact: IIMs value diversity and admit candidates from various backgrounds.\\r\\n\\r\\n2. **Myth:** High percentile guarantees admission.\\r\\n   - Fact: CAT is only one component; academic records and interviews also matter.\\r\\n\\r\\n3. **Myth:** One needs coaching to succeed.\\r\\n   - Fact: Self-preparation with the right strategy can yield results.\\r\\n\\r\\n---\\r\\n\\r\\n### Fun Facts About CAT\\r\\n\\r\\n1. CAT began in **1950**, and the computer-based format was introduced in 2009.\\r\\n2. Approximately **2.5–3 lakh candidates** register each year, making it one of the most competitive exams globally.\\r\\n3. The percentile system ensures fair assessment across varying difficulty levels of question sets.\\r\\n\\r\\nThis comprehensive information can form the basis of a QA model to answer specific queries about CAT. Let me know if you'd like additional data or specifics!\""
      ]
     },
     "execution_count": 33,
     "metadata": {},
     "output_type": "execute_result"
    }
   ],
   "source": [
    "doc[0].text"
   ]
  },
  {
   "cell_type": "code",
   "execution_count": 34,
   "metadata": {},
   "outputs": [],
   "source": [
    "gemini_embed_model=GeminiEmbedding(model_name=\"models/embedding-001\")"
   ]
  },
  {
   "cell_type": "code",
   "execution_count": 35,
   "metadata": {},
   "outputs": [],
   "source": [
    "model=Gemini(models='gemini-pro',api_key=google_api_key)"
   ]
  },
  {
   "cell_type": "code",
   "execution_count": 47,
   "metadata": {},
   "outputs": [],
   "source": [
    "\n",
    "#service_context=ServiceContext.from_defaults(llm=model,embed_model=gemini_embed_model,chunk_size=800,chunk_overlap=20)"
   ]
  },
  {
   "cell_type": "code",
   "execution_count": 55,
   "metadata": {},
   "outputs": [],
   "source": [
    "Settings.llm = model\n",
    "Settings.embed_model = gemini_embed_model\n",
    "Settings.num_output = 512\n",
    "Settings.context_window = 3900\n",
    "Settings.transformations = [SentenceSplitter(chunk_size=1024)]\n"
   ]
  },
  {
   "cell_type": "code",
   "execution_count": 59,
   "metadata": {},
   "outputs": [],
   "source": [
    "index = VectorStoreIndex.from_documents(\n",
    "    doc, embed_model=gemini_embed_model, transformations=Settings.transformations\n",
    ")"
   ]
  },
  {
   "cell_type": "code",
   "execution_count": 60,
   "metadata": {},
   "outputs": [
    {
     "data": {
      "text/plain": [
       "<llama_index.core.indices.vector_store.base.VectorStoreIndex at 0x27db6f5f760>"
      ]
     },
     "execution_count": 60,
     "metadata": {},
     "output_type": "execute_result"
    }
   ],
   "source": [
    "index"
   ]
  },
  {
   "cell_type": "code",
   "execution_count": 61,
   "metadata": {},
   "outputs": [],
   "source": [
    "index.storage_context.persist()"
   ]
  },
  {
   "cell_type": "code",
   "execution_count": 62,
   "metadata": {},
   "outputs": [],
   "source": [
    "query_engine=index.as_query_engine()"
   ]
  },
  {
   "cell_type": "code",
   "execution_count": 70,
   "metadata": {},
   "outputs": [],
   "source": [
    "response=query_engine.query(\"name the sections in cat exam?\")"
   ]
  },
  {
   "cell_type": "code",
   "execution_count": 71,
   "metadata": {},
   "outputs": [
    {
     "name": "stdout",
     "output_type": "stream",
     "text": [
      "The CAT exam sections are Quantitative Ability, Verbal Ability and Reading Comprehension, and Data Interpretation and Logical Reasoning.\n",
      "\n"
     ]
    }
   ],
   "source": [
    "print(response.response)"
   ]
  },
  {
   "cell_type": "code",
   "execution_count": null,
   "metadata": {},
   "outputs": [],
   "source": []
  }
 ],
 "metadata": {
  "kernelspec": {
   "display_name": "Python 3",
   "language": "python",
   "name": "python3"
  },
  "language_info": {
   "codemirror_mode": {
    "name": "ipython",
    "version": 3
   },
   "file_extension": ".py",
   "mimetype": "text/x-python",
   "name": "python",
   "nbconvert_exporter": "python",
   "pygments_lexer": "ipython3",
   "version": "3.9.20"
  }
 },
 "nbformat": 4,
 "nbformat_minor": 2
}
